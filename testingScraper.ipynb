{
 "cells": [
  {
   "cell_type": "code",
   "execution_count": 1,
   "metadata": {},
   "outputs": [],
   "source": [
    "import pandas as pd\n",
    "import scraper"
   ]
  },
  {
   "cell_type": "code",
   "execution_count": 2,
   "metadata": {},
   "outputs": [
    {
     "data": {
      "text/html": [
       "<div>\n",
       "<style scoped>\n",
       "    .dataframe tbody tr th:only-of-type {\n",
       "        vertical-align: middle;\n",
       "    }\n",
       "\n",
       "    .dataframe tbody tr th {\n",
       "        vertical-align: top;\n",
       "    }\n",
       "\n",
       "    .dataframe thead th {\n",
       "        text-align: right;\n",
       "    }\n",
       "</style>\n",
       "<table border=\"1\" class=\"dataframe\">\n",
       "  <thead>\n",
       "    <tr style=\"text-align: right;\">\n",
       "      <th></th>\n",
       "      <th>Track Name</th>\n",
       "      <th>Artist</th>\n",
       "      <th>Streams</th>\n",
       "    </tr>\n",
       "  </thead>\n",
       "  <tbody>\n",
       "    <tr>\n",
       "      <th>1</th>\n",
       "      <td>God's Plan</td>\n",
       "      <td>by Drake</td>\n",
       "      <td>3,688,855</td>\n",
       "    </tr>\n",
       "    <tr>\n",
       "      <th>2</th>\n",
       "      <td>Stir Fry</td>\n",
       "      <td>by Migos</td>\n",
       "      <td>1,401,977</td>\n",
       "    </tr>\n",
       "    <tr>\n",
       "      <th>3</th>\n",
       "      <td>rockstar</td>\n",
       "      <td>by Post Malone</td>\n",
       "      <td>1,161,579</td>\n",
       "    </tr>\n",
       "    <tr>\n",
       "      <th>4</th>\n",
       "      <td>Finesse (Remix) [feat. Cardi B]</td>\n",
       "      <td>by Bruno Mars</td>\n",
       "      <td>1,127,394</td>\n",
       "    </tr>\n",
       "    <tr>\n",
       "      <th>5</th>\n",
       "      <td>Narcos</td>\n",
       "      <td>by Migos</td>\n",
       "      <td>990,513</td>\n",
       "    </tr>\n",
       "  </tbody>\n",
       "</table>\n",
       "</div>"
      ],
      "text/plain": [
       "                        Track Name          Artist    Streams\n",
       "1                       God's Plan        by Drake  3,688,855\n",
       "2                         Stir Fry        by Migos  1,401,977\n",
       "3                         rockstar  by Post Malone  1,161,579\n",
       "4  Finesse (Remix) [feat. Cardi B]   by Bruno Mars  1,127,394\n",
       "5                           Narcos        by Migos    990,513"
      ]
     },
     "execution_count": 2,
     "metadata": {},
     "output_type": "execute_result"
    }
   ],
   "source": [
    "ws = scraper.WebScraper('https://spotifycharts.com/regional/us/daily/'\n",
    "                    , '2018-02-01'\n",
    "                    , 'tr'\n",
    "                    , None\n",
    "                    , ['strong', 'span', 'td']\n",
    "                    , ['Track Name', 'Artist', 'Streams']\n",
    "                    , [None, None, 'chart-table-streams'])\n",
    "ws.scrape(1).head()"
   ]
  },
  {
   "cell_type": "code",
   "execution_count": null,
   "metadata": {},
   "outputs": [],
   "source": []
  }
 ],
 "metadata": {
  "kernelspec": {
   "display_name": "Python 3",
   "language": "python",
   "name": "python3"
  },
  "language_info": {
   "codemirror_mode": {
    "name": "ipython",
    "version": 3
   },
   "file_extension": ".py",
   "mimetype": "text/x-python",
   "name": "python",
   "nbconvert_exporter": "python",
   "pygments_lexer": "ipython3",
   "version": "3.6.4"
  }
 },
 "nbformat": 4,
 "nbformat_minor": 2
}
